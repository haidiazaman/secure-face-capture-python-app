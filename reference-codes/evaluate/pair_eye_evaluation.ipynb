{
 "cells": [
  {
   "cell_type": "code",
   "execution_count": 2,
   "id": "1ac1dfc1-9a80-4ef9-95d9-1e18136c96d5",
   "metadata": {
    "tags": []
   },
   "outputs": [],
   "source": [
    "import pandas as pd\n",
    "import matplotlib.pyplot as plt\n",
    "import cv2\n",
    "import os\n",
    "from tqdm import tqdm\n",
    "import numpy as np\n",
    "from sklearn.metrics import confusion_matrix\n",
    "\n",
    "from eye_dataset_v1 import *\n",
    "from eye_model_v1 import *"
   ]
  },
  {
   "cell_type": "markdown",
   "id": "01757354-8467-40b0-b59b-2c2a1684f15c",
   "metadata": {
    "jp-MarkdownHeadingCollapsed": true,
    "tags": []
   },
   "source": [
    "# new iso l2 data collection pair eye - get softmax scores pair eye"
   ]
  },
  {
   "cell_type": "code",
   "execution_count": 59,
   "id": "eace589f-6cf9-4bf5-aea6-238df52fedff",
   "metadata": {
    "tags": []
   },
   "outputs": [],
   "source": [
    "from sklearn.metrics import confusion_matrix\n",
    "\n",
    "mapping = {\n",
    "    'open':0,\n",
    "    'close':1,\n",
    "    'block':2,\n",
    "    'no_pred':3\n",
    "}\n",
    "\n",
    "reverse_mapping = {v:k for k,v in mapping.items()}"
   ]
  },
  {
   "cell_type": "code",
   "execution_count": 60,
   "id": "be75f1e6-5bd0-4004-a9ae-1ccb97dabc8a",
   "metadata": {
    "tags": []
   },
   "outputs": [
    {
     "data": {
      "text/plain": [
       "Index(['image_path_left', 'image_path_right', 'left_bbox', 'right_bbox',\n",
       "       'left_label', 'right_label', 'pair_label', 'original_image_path',\n",
       "       'glasses', 'original_label', 'split_type', 'original_bbox', 'source',\n",
       "       'person_name', 'old_source_name', 'folder_source', 'collection_class',\n",
       "       'collection_class_run', 'eye_score', 'collection_label', 'model_label',\n",
       "       'label_description', 'specific_source', 'new_label', 'labeller',\n",
       "       'left_v2.6.1_epoch908_softmax_score',\n",
       "       'right_v2.6.1_epoch908_softmax_score',\n",
       "       'left_v3.2.5_epoch90_softmax_score',\n",
       "       'right_v3.2.5_epoch90_softmax_score',\n",
       "       'left_v3.3.5_epoch816_softmax_score',\n",
       "       'right_v3.3.5_epoch816_softmax_score',\n",
       "       'left_v3.3.4.1_epoch987_softmax_score',\n",
       "       'right_v3.3.4.1_epoch987_softmax_score'],\n",
       "      dtype='object')"
      ]
     },
     "execution_count": 60,
     "metadata": {},
     "output_type": "execute_result"
    }
   ],
   "source": [
    "pairPath='~/data/aurora/ISO_L2_eye_mouth_blink/eye/data/v3.4/v3.4.0_test_pairs_full.csv'\n",
    "pair_df = pd.read_csv(pairPath)\n",
    "pair_df.columns"
   ]
  },
  {
   "cell_type": "code",
   "execution_count": 61,
   "id": "0309680c-60d5-4993-acd2-add4d51f6c32",
   "metadata": {
    "tags": []
   },
   "outputs": [
    {
     "data": {
      "text/plain": [
       "(700,\n",
       " pair_label\n",
       " block    355\n",
       " close    173\n",
       " open     172\n",
       " Name: count, dtype: int64)"
      ]
     },
     "execution_count": 61,
     "metadata": {},
     "output_type": "execute_result"
    }
   ],
   "source": [
    "len(pair_df),pair_df.pair_label.value_counts()"
   ]
  },
  {
   "cell_type": "code",
   "execution_count": 62,
   "id": "11c722c6-09c9-43ea-a88b-fb674bc669f2",
   "metadata": {
    "tags": []
   },
   "outputs": [
    {
     "name": "stderr",
     "output_type": "stream",
     "text": [
      "700it [00:02, 342.86it/s]\n"
     ]
    },
    {
     "data": {
      "text/plain": [
       "(700, 700)"
      ]
     },
     "execution_count": 62,
     "metadata": {},
     "output_type": "execute_result"
    }
   ],
   "source": [
    "# preload pair eyes\n",
    "\n",
    "def load_image_for_preload(input_param):\n",
    "    expend_ratio = 0\n",
    "    image = cv2.cvtColor(cv2.imread(input_param['image_path']), cv2.COLOR_BGR2RGB)\n",
    "    l, t, r, b = input_param['bbox']\n",
    "    w, h = r - l, b - t\n",
    "    l, r = max(0, l - int(expend_ratio * w / 2)), min(image.shape[1] - 1, r + int(expend_ratio * w / 2))\n",
    "    t, b = max(0, t - int(expend_ratio * h / 2)), min(image.shape[0] - 1, b + int(expend_ratio * h / 2))\n",
    "    input_dim = input_param['input_dim']\n",
    "    image = cv2.resize(image[t:b, l:r], (input_dim, input_dim))\n",
    "    return image\n",
    "\n",
    "def apply_input_transforms(image): #apply /255 and totensor for val and test, can apply for train after augmentations\n",
    "    transforms=Compose([\n",
    "        ToTensor()\n",
    "    ])\n",
    "    image=transforms(image)\n",
    "    return image \n",
    "\n",
    "left_eyes,right_eyes=[],[]\n",
    "\n",
    "for ind,row in tqdm(pair_df.iterrows()):\n",
    "    image_path_left = row['image_path_left'] \n",
    "    image_path_right = row['image_path_right']\n",
    "    left_bbox = row['left_bbox']\n",
    "    right_bbox = row['right_bbox']\n",
    "    left_label = row['left_label']\n",
    "    right_label = row['right_label']\n",
    "    \n",
    "    left_params={'image_path':image_path_left,'bbox':eval(left_bbox),'input_dim':80}\n",
    "    right_params={'image_path':image_path_right,'bbox':eval(right_bbox),'input_dim':80}\n",
    "    \n",
    "    left_eye_image = load_image_for_preload(left_params)\n",
    "    right_eye_image = load_image_for_preload(right_params)    \n",
    "    left_label = mapping[left_label]\n",
    "    right_label = mapping[right_label]    \n",
    "    left_eye_image = apply_input_transforms(left_eye_image)\n",
    "    right_eye_image = apply_input_transforms(right_eye_image)\n",
    "    \n",
    "    left_eyes.append([left_eye_image,left_label])\n",
    "    right_eyes.append([right_eye_image,right_label])\n",
    "    \n",
    "len(left_eyes),len(right_eyes)"
   ]
  },
  {
   "cell_type": "code",
   "execution_count": 63,
   "id": "02e29e09-51c9-4d8c-b80e-8343c2de58d3",
   "metadata": {
    "tags": []
   },
   "outputs": [],
   "source": [
    "device=torch.device('cuda' if torch.cuda.is_available() else 'cpu')"
   ]
  },
  {
   "cell_type": "code",
   "execution_count": null,
   "id": "8f9e0226-b769-4deb-845d-e21e94155a38",
   "metadata": {},
   "outputs": [
    {
     "data": {
      "text/plain": [
       "Index(['image_path_left', 'image_path_right', 'left_bbox', 'right_bbox',\n",
       "       'left_label', 'right_label', 'pair_label', 'original_image_path',\n",
       "       'glasses', 'original_label', 'split_type', 'original_bbox', 'source',\n",
       "       'person_name', 'old_source_name', 'folder_source', 'collection_class',\n",
       "       'collection_class_run', 'eye_score', 'collection_label', 'model_label',\n",
       "       'label_description', 'specific_source', 'new_label', 'labeller',\n",
       "       'left_v2.6.1_epoch908_softmax_score',\n",
       "       'right_v2.6.1_epoch908_softmax_score',\n",
       "       'left_v3.2.5_epoch90_softmax_score',\n",
       "       'right_v3.2.5_epoch90_softmax_score',\n",
       "       'left_v3.3.5_epoch816_softmax_score',\n",
       "       'right_v3.3.5_epoch816_softmax_score',\n",
       "       'left_v3.3.4.1_epoch987_softmax_score',\n",
       "       'right_v3.3.4.1_epoch987_softmax_score'],\n",
       "      dtype='object')"
      ]
     },
     "execution_count": 66,
     "metadata": {},
     "output_type": "execute_result"
    }
   ],
   "source": [
    "pair_df.columns"
   ]
  },
  {
   "cell_type": "code",
   "execution_count": 67,
   "id": "15c4ebc1-c146-4b81-8105-600a0b8e8bb0",
   "metadata": {
    "tags": []
   },
   "outputs": [
    {
     "name": "stdout",
     "output_type": "stream",
     "text": [
      "model loaded succesfully\n"
     ]
    },
    {
     "name": "stderr",
     "output_type": "stream",
     "text": [
      "700it [00:12, 55.70it/s]\n"
     ]
    },
    {
     "name": "stdout",
     "output_type": "stream",
     "text": [
      "model loaded succesfully\n"
     ]
    },
    {
     "name": "stderr",
     "output_type": "stream",
     "text": [
      "700it [00:10, 66.44it/s]\n"
     ]
    },
    {
     "name": "stdout",
     "output_type": "stream",
     "text": [
      "model loaded succesfully\n"
     ]
    },
    {
     "name": "stderr",
     "output_type": "stream",
     "text": [
      "700it [00:10, 66.18it/s]\n"
     ]
    },
    {
     "name": "stdout",
     "output_type": "stream",
     "text": [
      "model loaded succesfully\n"
     ]
    },
    {
     "name": "stderr",
     "output_type": "stream",
     "text": [
      "700it [00:11, 60.22it/s]\n"
     ]
    }
   ],
   "source": [
    "pairs=[['v2.6.1','908'],['v3.2.5','90'],['v3.3.5','816'],['v3.3.4.1','987']]\n",
    "\n",
    "model_key = 'mobilenetv3_small_050'\n",
    "\n",
    "for output_folder,epoch in pairs:\n",
    "    model_path = f'/home/jovyan/data/aurora/ISO_L2_eye_mouth_blink/eye/train/result/{output_folder}/weights/epoch{epoch}.pt' \n",
    "    try: \n",
    "        # setup model - from scratch or load model for finetune\n",
    "        model = Eye_Net(\n",
    "            model_key = model_key,\n",
    "            in_channel = 3\n",
    "        ).to(device)\n",
    "        model.load_state_dict(torch.load(os.path.join(model_path), map_location = device))\n",
    "        _ = model.eval()\n",
    "        print('model loaded succesfully')\n",
    "\n",
    "        # start inference\n",
    "        left_softmax_output_list,right_softmax_output_list = [],[]\n",
    "        for i,((left_image,left_label),(right_image,right_label)) in enumerate(tqdm(zip(left_eyes,right_eyes))):\n",
    "\n",
    "            left_logits = model(left_image.unsqueeze(0).cuda())\n",
    "            left_logits = left_logits.cpu().detach()\n",
    "            left_softmax_output = nn.Softmax(dim=1)(left_logits)\n",
    "            left_softmax_output = [round(x,5) for x in left_softmax_output.numpy()[0].tolist()]\n",
    "            left_softmax_output_list.append(left_softmax_output)\n",
    "            \n",
    "            \n",
    "            right_logits = model(right_image.unsqueeze(0).cuda())\n",
    "            right_logits = right_logits.cpu().detach()\n",
    "            right_softmax_output = nn.Softmax(dim=1)(right_logits)\n",
    "            right_softmax_output = [round(x,5) for x in right_softmax_output.numpy()[0].tolist()]\n",
    "            right_softmax_output_list.append(right_softmax_output)\n",
    "\n",
    "        # save softmax output to test_df\n",
    "        left_model_softmax_col_name = f'left_{output_folder}_epoch{epoch}_softmax_score'\n",
    "        pair_df[left_model_softmax_col_name]=left_softmax_output_list\n",
    "        \n",
    "        # save softmax output to test_df\n",
    "        right_model_softmax_col_name = f'right_{output_folder}_epoch{epoch}_softmax_score'\n",
    "        pair_df[right_model_softmax_col_name]=right_softmax_output_list\n",
    "        \n",
    "    except Exception as e:\n",
    "        print(epoch,e)\n",
    "        \n",
    "# pair_df.head()"
   ]
  },
  {
   "cell_type": "code",
   "execution_count": 68,
   "id": "bce7e873-56a2-4c3c-aac5-536dbd39ccd5",
   "metadata": {},
   "outputs": [],
   "source": [
    "pair_df.to_csv(pairPath,index=False)"
   ]
  },
  {
   "cell_type": "markdown",
   "id": "bf9c7396-99ea-4e30-9080-1e78cd656963",
   "metadata": {
    "jp-MarkdownHeadingCollapsed": true,
    "tags": []
   },
   "source": [
    "# pair eye prediction using threshold"
   ]
  },
  {
   "cell_type": "code",
   "execution_count": 69,
   "id": "c8b0eecc-e72d-45cc-b38c-4165e71d960f",
   "metadata": {
    "tags": []
   },
   "outputs": [
    {
     "data": {
      "text/html": [
       "<div>\n",
       "<style scoped>\n",
       "    .dataframe tbody tr th:only-of-type {\n",
       "        vertical-align: middle;\n",
       "    }\n",
       "\n",
       "    .dataframe tbody tr th {\n",
       "        vertical-align: top;\n",
       "    }\n",
       "\n",
       "    .dataframe thead th {\n",
       "        text-align: right;\n",
       "    }\n",
       "</style>\n",
       "<table border=\"1\" class=\"dataframe\">\n",
       "  <thead>\n",
       "    <tr style=\"text-align: right;\">\n",
       "      <th></th>\n",
       "      <th>image_path_left</th>\n",
       "      <th>image_path_right</th>\n",
       "      <th>left_bbox</th>\n",
       "      <th>right_bbox</th>\n",
       "      <th>left_label</th>\n",
       "      <th>right_label</th>\n",
       "      <th>pair_label</th>\n",
       "      <th>original_image_path</th>\n",
       "      <th>glasses</th>\n",
       "      <th>original_label</th>\n",
       "      <th>...</th>\n",
       "      <th>new_label</th>\n",
       "      <th>labeller</th>\n",
       "      <th>left_v2.6.1_epoch908_softmax_score</th>\n",
       "      <th>right_v2.6.1_epoch908_softmax_score</th>\n",
       "      <th>left_v3.2.5_epoch90_softmax_score</th>\n",
       "      <th>right_v3.2.5_epoch90_softmax_score</th>\n",
       "      <th>left_v3.3.5_epoch816_softmax_score</th>\n",
       "      <th>right_v3.3.5_epoch816_softmax_score</th>\n",
       "      <th>left_v3.3.4.1_epoch987_softmax_score</th>\n",
       "      <th>right_v3.3.4.1_epoch987_softmax_score</th>\n",
       "    </tr>\n",
       "  </thead>\n",
       "  <tbody>\n",
       "    <tr>\n",
       "      <th>0</th>\n",
       "      <td>/home/jovyan/data/aurora/dataset/ISO_L2_data_c...</td>\n",
       "      <td>/home/jovyan/data/aurora/dataset/ISO_L2_data_c...</td>\n",
       "      <td>[0,0,80,80]</td>\n",
       "      <td>[0,0,80,80]</td>\n",
       "      <td>close</td>\n",
       "      <td>close</td>\n",
       "      <td>close</td>\n",
       "      <td>/home/jovyan/data/aurora/dataset/ISO_L2_data_c...</td>\n",
       "      <td>NaN</td>\n",
       "      <td>close</td>\n",
       "      <td>...</td>\n",
       "      <td>2.0</td>\n",
       "      <td>haidi</td>\n",
       "      <td>[0.00225, 0.93446, 0.06329]</td>\n",
       "      <td>[5e-05, 0.06346, 0.93649]</td>\n",
       "      <td>[0.01366, 0.60081, 0.38553]</td>\n",
       "      <td>[0.01063, 0.58689, 0.40249]</td>\n",
       "      <td>[0.00326, 0.98626, 0.01048]</td>\n",
       "      <td>[0.00202, 0.2383, 0.75968]</td>\n",
       "      <td>[0.00099, 0.98542, 0.01359]</td>\n",
       "      <td>[0.00081, 0.60879, 0.3904]</td>\n",
       "    </tr>\n",
       "    <tr>\n",
       "      <th>1</th>\n",
       "      <td>/home/jovyan/data/aurora/dataset/ISO_L2_data_c...</td>\n",
       "      <td>/home/jovyan/data/aurora/dataset/ISO_L2_data_c...</td>\n",
       "      <td>[0,0,80,80]</td>\n",
       "      <td>[0,0,80,80]</td>\n",
       "      <td>open</td>\n",
       "      <td>open</td>\n",
       "      <td>open</td>\n",
       "      <td>/home/jovyan/data/aurora/dataset/ISO_L2_data_c...</td>\n",
       "      <td>NaN</td>\n",
       "      <td>open</td>\n",
       "      <td>...</td>\n",
       "      <td>1.0</td>\n",
       "      <td>haidi</td>\n",
       "      <td>[0.99491, 7e-05, 0.00501]</td>\n",
       "      <td>[0.99428, 0.00017, 0.00554]</td>\n",
       "      <td>[0.5938, 0.13897, 0.26723]</td>\n",
       "      <td>[0.58498, 0.32836, 0.08666]</td>\n",
       "      <td>[0.98707, 0.0001, 0.01283]</td>\n",
       "      <td>[0.99697, 0.00137, 0.00166]</td>\n",
       "      <td>[0.99849, 0.00031, 0.00119]</td>\n",
       "      <td>[0.98467, 0.00299, 0.01235]</td>\n",
       "    </tr>\n",
       "    <tr>\n",
       "      <th>2</th>\n",
       "      <td>/home/jovyan/data/aurora/dataset/ISO_L2_data_c...</td>\n",
       "      <td>/home/jovyan/data/aurora/dataset/ISO_L2_data_c...</td>\n",
       "      <td>[0,0,80,80]</td>\n",
       "      <td>[0,0,80,80]</td>\n",
       "      <td>open</td>\n",
       "      <td>open</td>\n",
       "      <td>open</td>\n",
       "      <td>/home/jovyan/data/aurora/dataset/ISO_L2_data_c...</td>\n",
       "      <td>NaN</td>\n",
       "      <td>open</td>\n",
       "      <td>...</td>\n",
       "      <td>1.0</td>\n",
       "      <td>haidi</td>\n",
       "      <td>[0.99962, 1e-05, 0.00037]</td>\n",
       "      <td>[0.99914, 0.0, 0.00085]</td>\n",
       "      <td>[0.80123, 0.05483, 0.14394]</td>\n",
       "      <td>[0.82647, 0.0892, 0.08433]</td>\n",
       "      <td>[0.9828, 2e-05, 0.01719]</td>\n",
       "      <td>[0.99746, 1e-05, 0.00253]</td>\n",
       "      <td>[0.99984, 1e-05, 0.00015]</td>\n",
       "      <td>[0.99775, 3e-05, 0.00222]</td>\n",
       "    </tr>\n",
       "    <tr>\n",
       "      <th>3</th>\n",
       "      <td>/home/jovyan/data/aurora/dataset/ISO_L2_data_c...</td>\n",
       "      <td>/home/jovyan/data/aurora/dataset/ISO_L2_data_c...</td>\n",
       "      <td>[0,0,80,80]</td>\n",
       "      <td>[0,0,80,80]</td>\n",
       "      <td>close</td>\n",
       "      <td>close</td>\n",
       "      <td>close</td>\n",
       "      <td>/home/jovyan/data/aurora/dataset/ISO_L2_data_c...</td>\n",
       "      <td>NaN</td>\n",
       "      <td>close</td>\n",
       "      <td>...</td>\n",
       "      <td>2.0</td>\n",
       "      <td>haidi</td>\n",
       "      <td>[0.0, 1.0, 0.0]</td>\n",
       "      <td>[0.00033, 0.39601, 0.60366]</td>\n",
       "      <td>[0.00075, 0.81555, 0.1837]</td>\n",
       "      <td>[0.00057, 0.74479, 0.25464]</td>\n",
       "      <td>[0.0, 0.99987, 0.00013]</td>\n",
       "      <td>[0.00171, 0.34932, 0.64896]</td>\n",
       "      <td>[0.0, 0.99988, 0.00012]</td>\n",
       "      <td>[0.00028, 0.74582, 0.25389]</td>\n",
       "    </tr>\n",
       "    <tr>\n",
       "      <th>4</th>\n",
       "      <td>/home/jovyan/data/aurora/dataset/ISO_L2_data_c...</td>\n",
       "      <td>/home/jovyan/data/aurora/dataset/ISO_L2_data_c...</td>\n",
       "      <td>[0,0,80,80]</td>\n",
       "      <td>[0,0,80,80]</td>\n",
       "      <td>close</td>\n",
       "      <td>close</td>\n",
       "      <td>close</td>\n",
       "      <td>/home/jovyan/data/aurora/dataset/ISO_L2_data_c...</td>\n",
       "      <td>NaN</td>\n",
       "      <td>close</td>\n",
       "      <td>...</td>\n",
       "      <td>2.0</td>\n",
       "      <td>haidi</td>\n",
       "      <td>[0.00217, 0.75424, 0.24359]</td>\n",
       "      <td>[0.00011, 0.62968, 0.37021]</td>\n",
       "      <td>[0.00522, 0.61655, 0.37823]</td>\n",
       "      <td>[0.03462, 0.36113, 0.60425]</td>\n",
       "      <td>[0.00882, 0.85572, 0.13547]</td>\n",
       "      <td>[0.00705, 0.76614, 0.22681]</td>\n",
       "      <td>[0.00124, 0.96564, 0.03312]</td>\n",
       "      <td>[0.00053, 0.90091, 0.09855]</td>\n",
       "    </tr>\n",
       "    <tr>\n",
       "      <th>...</th>\n",
       "      <td>...</td>\n",
       "      <td>...</td>\n",
       "      <td>...</td>\n",
       "      <td>...</td>\n",
       "      <td>...</td>\n",
       "      <td>...</td>\n",
       "      <td>...</td>\n",
       "      <td>...</td>\n",
       "      <td>...</td>\n",
       "      <td>...</td>\n",
       "      <td>...</td>\n",
       "      <td>...</td>\n",
       "      <td>...</td>\n",
       "      <td>...</td>\n",
       "      <td>...</td>\n",
       "      <td>...</td>\n",
       "      <td>...</td>\n",
       "      <td>...</td>\n",
       "      <td>...</td>\n",
       "      <td>...</td>\n",
       "      <td>...</td>\n",
       "    </tr>\n",
       "    <tr>\n",
       "      <th>695</th>\n",
       "      <td>/home/jovyan/data/aurora/dataset/ISO_L2_data_c...</td>\n",
       "      <td>/home/jovyan/data/aurora/dataset/ISO_L2_data_c...</td>\n",
       "      <td>[0,0,80,80]</td>\n",
       "      <td>[0,0,80,80]</td>\n",
       "      <td>block</td>\n",
       "      <td>block</td>\n",
       "      <td>block</td>\n",
       "      <td>/home/jovyan/data/aurora/dataset/ISO_L2_data_c...</td>\n",
       "      <td>NaN</td>\n",
       "      <td>block</td>\n",
       "      <td>...</td>\n",
       "      <td>5.0</td>\n",
       "      <td>haidi</td>\n",
       "      <td>[0.32219, 5e-05, 0.67775]</td>\n",
       "      <td>[0.9925, 0.00015, 0.00736]</td>\n",
       "      <td>[0.15518, 0.00105, 0.84376]</td>\n",
       "      <td>[0.16301, 0.01687, 0.82012]</td>\n",
       "      <td>[0.04863, 2e-05, 0.95135]</td>\n",
       "      <td>[0.86383, 0.0006, 0.13557]</td>\n",
       "      <td>[1e-05, 0.0, 0.99999]</td>\n",
       "      <td>[0.18378, 1e-05, 0.81621]</td>\n",
       "    </tr>\n",
       "    <tr>\n",
       "      <th>696</th>\n",
       "      <td>/home/jovyan/data/aurora/dataset/ISO_L2_data_c...</td>\n",
       "      <td>/home/jovyan/data/aurora/dataset/ISO_L2_data_c...</td>\n",
       "      <td>[0,0,80,80]</td>\n",
       "      <td>[0,0,80,80]</td>\n",
       "      <td>block</td>\n",
       "      <td>block</td>\n",
       "      <td>block</td>\n",
       "      <td>/home/jovyan/data/aurora/dataset/ISO_L2_data_c...</td>\n",
       "      <td>NaN</td>\n",
       "      <td>block</td>\n",
       "      <td>...</td>\n",
       "      <td>5.0</td>\n",
       "      <td>haidi</td>\n",
       "      <td>[0.72684, 4e-05, 0.27312]</td>\n",
       "      <td>[0.02932, 0.0001, 0.97058]</td>\n",
       "      <td>[0.02768, 0.00419, 0.96813]</td>\n",
       "      <td>[0.02978, 0.00353, 0.96669]</td>\n",
       "      <td>[0.00157, 4e-05, 0.9984]</td>\n",
       "      <td>[0.00179, 1e-05, 0.9982]</td>\n",
       "      <td>[0.0, 0.0, 1.0]</td>\n",
       "      <td>[3e-05, 0.0, 0.99996]</td>\n",
       "    </tr>\n",
       "    <tr>\n",
       "      <th>697</th>\n",
       "      <td>/home/jovyan/data/aurora/dataset/ISO_L2_data_c...</td>\n",
       "      <td>/home/jovyan/data/aurora/dataset/ISO_L2_data_c...</td>\n",
       "      <td>[0,0,80,80]</td>\n",
       "      <td>[0,0,80,80]</td>\n",
       "      <td>block</td>\n",
       "      <td>block</td>\n",
       "      <td>block</td>\n",
       "      <td>/home/jovyan/data/aurora/dataset/ISO_L2_data_c...</td>\n",
       "      <td>NaN</td>\n",
       "      <td>block</td>\n",
       "      <td>...</td>\n",
       "      <td>5.0</td>\n",
       "      <td>haidi</td>\n",
       "      <td>[6e-05, 0.00014, 0.9998]</td>\n",
       "      <td>[0.00094, 0.00013, 0.99893]</td>\n",
       "      <td>[0.01019, 0.00867, 0.98114]</td>\n",
       "      <td>[0.01417, 0.00318, 0.98265]</td>\n",
       "      <td>[0.00152, 0.00011, 0.99836]</td>\n",
       "      <td>[0.00196, 5e-05, 0.99799]</td>\n",
       "      <td>[4e-05, 0.0, 0.99996]</td>\n",
       "      <td>[0.0, 0.0, 1.0]</td>\n",
       "    </tr>\n",
       "    <tr>\n",
       "      <th>698</th>\n",
       "      <td>/home/jovyan/data/aurora/dataset/ISO_L2_data_c...</td>\n",
       "      <td>/home/jovyan/data/aurora/dataset/ISO_L2_data_c...</td>\n",
       "      <td>[0,0,80,80]</td>\n",
       "      <td>[0,0,80,80]</td>\n",
       "      <td>block</td>\n",
       "      <td>block</td>\n",
       "      <td>block</td>\n",
       "      <td>/home/jovyan/data/aurora/dataset/ISO_L2_data_c...</td>\n",
       "      <td>NaN</td>\n",
       "      <td>block</td>\n",
       "      <td>...</td>\n",
       "      <td>5.0</td>\n",
       "      <td>haidi</td>\n",
       "      <td>[0.95265, 0.00022, 0.04713]</td>\n",
       "      <td>[0.93694, 2e-05, 0.06304]</td>\n",
       "      <td>[0.06788, 0.00351, 0.92861]</td>\n",
       "      <td>[0.04766, 0.00701, 0.94534]</td>\n",
       "      <td>[0.00416, 0.0001, 0.99574]</td>\n",
       "      <td>[0.00095, 3e-05, 0.99903]</td>\n",
       "      <td>[5e-05, 0.0, 0.99995]</td>\n",
       "      <td>[1e-05, 0.0, 0.99999]</td>\n",
       "    </tr>\n",
       "    <tr>\n",
       "      <th>699</th>\n",
       "      <td>/home/jovyan/data/aurora/dataset/ISO_L2_data_c...</td>\n",
       "      <td>/home/jovyan/data/aurora/dataset/ISO_L2_data_c...</td>\n",
       "      <td>[0,0,80,80]</td>\n",
       "      <td>[0,0,80,80]</td>\n",
       "      <td>block</td>\n",
       "      <td>block</td>\n",
       "      <td>block</td>\n",
       "      <td>/home/jovyan/data/aurora/dataset/ISO_L2_data_c...</td>\n",
       "      <td>NaN</td>\n",
       "      <td>block</td>\n",
       "      <td>...</td>\n",
       "      <td>5.0</td>\n",
       "      <td>haidi</td>\n",
       "      <td>[0.85598, 0.00033, 0.1437]</td>\n",
       "      <td>[0.93173, 3e-05, 0.06824]</td>\n",
       "      <td>[0.06126, 0.0043, 0.93444]</td>\n",
       "      <td>[0.04362, 0.00557, 0.95081]</td>\n",
       "      <td>[0.00044, 4e-05, 0.99952]</td>\n",
       "      <td>[0.00057, 4e-05, 0.99939]</td>\n",
       "      <td>[0.0, 0.0, 1.0]</td>\n",
       "      <td>[0.0, 0.0, 1.0]</td>\n",
       "    </tr>\n",
       "  </tbody>\n",
       "</table>\n",
       "<p>700 rows × 33 columns</p>\n",
       "</div>"
      ],
      "text/plain": [
       "                                       image_path_left  \\\n",
       "0    /home/jovyan/data/aurora/dataset/ISO_L2_data_c...   \n",
       "1    /home/jovyan/data/aurora/dataset/ISO_L2_data_c...   \n",
       "2    /home/jovyan/data/aurora/dataset/ISO_L2_data_c...   \n",
       "3    /home/jovyan/data/aurora/dataset/ISO_L2_data_c...   \n",
       "4    /home/jovyan/data/aurora/dataset/ISO_L2_data_c...   \n",
       "..                                                 ...   \n",
       "695  /home/jovyan/data/aurora/dataset/ISO_L2_data_c...   \n",
       "696  /home/jovyan/data/aurora/dataset/ISO_L2_data_c...   \n",
       "697  /home/jovyan/data/aurora/dataset/ISO_L2_data_c...   \n",
       "698  /home/jovyan/data/aurora/dataset/ISO_L2_data_c...   \n",
       "699  /home/jovyan/data/aurora/dataset/ISO_L2_data_c...   \n",
       "\n",
       "                                      image_path_right    left_bbox  \\\n",
       "0    /home/jovyan/data/aurora/dataset/ISO_L2_data_c...  [0,0,80,80]   \n",
       "1    /home/jovyan/data/aurora/dataset/ISO_L2_data_c...  [0,0,80,80]   \n",
       "2    /home/jovyan/data/aurora/dataset/ISO_L2_data_c...  [0,0,80,80]   \n",
       "3    /home/jovyan/data/aurora/dataset/ISO_L2_data_c...  [0,0,80,80]   \n",
       "4    /home/jovyan/data/aurora/dataset/ISO_L2_data_c...  [0,0,80,80]   \n",
       "..                                                 ...          ...   \n",
       "695  /home/jovyan/data/aurora/dataset/ISO_L2_data_c...  [0,0,80,80]   \n",
       "696  /home/jovyan/data/aurora/dataset/ISO_L2_data_c...  [0,0,80,80]   \n",
       "697  /home/jovyan/data/aurora/dataset/ISO_L2_data_c...  [0,0,80,80]   \n",
       "698  /home/jovyan/data/aurora/dataset/ISO_L2_data_c...  [0,0,80,80]   \n",
       "699  /home/jovyan/data/aurora/dataset/ISO_L2_data_c...  [0,0,80,80]   \n",
       "\n",
       "      right_bbox left_label right_label pair_label  \\\n",
       "0    [0,0,80,80]      close       close      close   \n",
       "1    [0,0,80,80]       open        open       open   \n",
       "2    [0,0,80,80]       open        open       open   \n",
       "3    [0,0,80,80]      close       close      close   \n",
       "4    [0,0,80,80]      close       close      close   \n",
       "..           ...        ...         ...        ...   \n",
       "695  [0,0,80,80]      block       block      block   \n",
       "696  [0,0,80,80]      block       block      block   \n",
       "697  [0,0,80,80]      block       block      block   \n",
       "698  [0,0,80,80]      block       block      block   \n",
       "699  [0,0,80,80]      block       block      block   \n",
       "\n",
       "                                   original_image_path  glasses  \\\n",
       "0    /home/jovyan/data/aurora/dataset/ISO_L2_data_c...      NaN   \n",
       "1    /home/jovyan/data/aurora/dataset/ISO_L2_data_c...      NaN   \n",
       "2    /home/jovyan/data/aurora/dataset/ISO_L2_data_c...      NaN   \n",
       "3    /home/jovyan/data/aurora/dataset/ISO_L2_data_c...      NaN   \n",
       "4    /home/jovyan/data/aurora/dataset/ISO_L2_data_c...      NaN   \n",
       "..                                                 ...      ...   \n",
       "695  /home/jovyan/data/aurora/dataset/ISO_L2_data_c...      NaN   \n",
       "696  /home/jovyan/data/aurora/dataset/ISO_L2_data_c...      NaN   \n",
       "697  /home/jovyan/data/aurora/dataset/ISO_L2_data_c...      NaN   \n",
       "698  /home/jovyan/data/aurora/dataset/ISO_L2_data_c...      NaN   \n",
       "699  /home/jovyan/data/aurora/dataset/ISO_L2_data_c...      NaN   \n",
       "\n",
       "    original_label  ... new_label labeller left_v2.6.1_epoch908_softmax_score  \\\n",
       "0            close  ...       2.0    haidi        [0.00225, 0.93446, 0.06329]   \n",
       "1             open  ...       1.0    haidi          [0.99491, 7e-05, 0.00501]   \n",
       "2             open  ...       1.0    haidi          [0.99962, 1e-05, 0.00037]   \n",
       "3            close  ...       2.0    haidi                    [0.0, 1.0, 0.0]   \n",
       "4            close  ...       2.0    haidi        [0.00217, 0.75424, 0.24359]   \n",
       "..             ...  ...       ...      ...                                ...   \n",
       "695          block  ...       5.0    haidi          [0.32219, 5e-05, 0.67775]   \n",
       "696          block  ...       5.0    haidi          [0.72684, 4e-05, 0.27312]   \n",
       "697          block  ...       5.0    haidi           [6e-05, 0.00014, 0.9998]   \n",
       "698          block  ...       5.0    haidi        [0.95265, 0.00022, 0.04713]   \n",
       "699          block  ...       5.0    haidi         [0.85598, 0.00033, 0.1437]   \n",
       "\n",
       "    right_v2.6.1_epoch908_softmax_score  left_v3.2.5_epoch90_softmax_score  \\\n",
       "0             [5e-05, 0.06346, 0.93649]        [0.01366, 0.60081, 0.38553]   \n",
       "1           [0.99428, 0.00017, 0.00554]         [0.5938, 0.13897, 0.26723]   \n",
       "2               [0.99914, 0.0, 0.00085]        [0.80123, 0.05483, 0.14394]   \n",
       "3           [0.00033, 0.39601, 0.60366]         [0.00075, 0.81555, 0.1837]   \n",
       "4           [0.00011, 0.62968, 0.37021]        [0.00522, 0.61655, 0.37823]   \n",
       "..                                  ...                                ...   \n",
       "695          [0.9925, 0.00015, 0.00736]        [0.15518, 0.00105, 0.84376]   \n",
       "696          [0.02932, 0.0001, 0.97058]        [0.02768, 0.00419, 0.96813]   \n",
       "697         [0.00094, 0.00013, 0.99893]        [0.01019, 0.00867, 0.98114]   \n",
       "698           [0.93694, 2e-05, 0.06304]        [0.06788, 0.00351, 0.92861]   \n",
       "699           [0.93173, 3e-05, 0.06824]         [0.06126, 0.0043, 0.93444]   \n",
       "\n",
       "     right_v3.2.5_epoch90_softmax_score  left_v3.3.5_epoch816_softmax_score  \\\n",
       "0           [0.01063, 0.58689, 0.40249]         [0.00326, 0.98626, 0.01048]   \n",
       "1           [0.58498, 0.32836, 0.08666]          [0.98707, 0.0001, 0.01283]   \n",
       "2            [0.82647, 0.0892, 0.08433]            [0.9828, 2e-05, 0.01719]   \n",
       "3           [0.00057, 0.74479, 0.25464]             [0.0, 0.99987, 0.00013]   \n",
       "4           [0.03462, 0.36113, 0.60425]         [0.00882, 0.85572, 0.13547]   \n",
       "..                                  ...                                 ...   \n",
       "695         [0.16301, 0.01687, 0.82012]           [0.04863, 2e-05, 0.95135]   \n",
       "696         [0.02978, 0.00353, 0.96669]            [0.00157, 4e-05, 0.9984]   \n",
       "697         [0.01417, 0.00318, 0.98265]         [0.00152, 0.00011, 0.99836]   \n",
       "698         [0.04766, 0.00701, 0.94534]          [0.00416, 0.0001, 0.99574]   \n",
       "699         [0.04362, 0.00557, 0.95081]           [0.00044, 4e-05, 0.99952]   \n",
       "\n",
       "     right_v3.3.5_epoch816_softmax_score left_v3.3.4.1_epoch987_softmax_score  \\\n",
       "0             [0.00202, 0.2383, 0.75968]          [0.00099, 0.98542, 0.01359]   \n",
       "1            [0.99697, 0.00137, 0.00166]          [0.99849, 0.00031, 0.00119]   \n",
       "2              [0.99746, 1e-05, 0.00253]            [0.99984, 1e-05, 0.00015]   \n",
       "3            [0.00171, 0.34932, 0.64896]              [0.0, 0.99988, 0.00012]   \n",
       "4            [0.00705, 0.76614, 0.22681]          [0.00124, 0.96564, 0.03312]   \n",
       "..                                   ...                                  ...   \n",
       "695           [0.86383, 0.0006, 0.13557]                [1e-05, 0.0, 0.99999]   \n",
       "696             [0.00179, 1e-05, 0.9982]                      [0.0, 0.0, 1.0]   \n",
       "697            [0.00196, 5e-05, 0.99799]                [4e-05, 0.0, 0.99996]   \n",
       "698            [0.00095, 3e-05, 0.99903]                [5e-05, 0.0, 0.99995]   \n",
       "699            [0.00057, 4e-05, 0.99939]                      [0.0, 0.0, 1.0]   \n",
       "\n",
       "    right_v3.3.4.1_epoch987_softmax_score  \n",
       "0              [0.00081, 0.60879, 0.3904]  \n",
       "1             [0.98467, 0.00299, 0.01235]  \n",
       "2               [0.99775, 3e-05, 0.00222]  \n",
       "3             [0.00028, 0.74582, 0.25389]  \n",
       "4             [0.00053, 0.90091, 0.09855]  \n",
       "..                                    ...  \n",
       "695             [0.18378, 1e-05, 0.81621]  \n",
       "696                 [3e-05, 0.0, 0.99996]  \n",
       "697                       [0.0, 0.0, 1.0]  \n",
       "698                 [1e-05, 0.0, 0.99999]  \n",
       "699                       [0.0, 0.0, 1.0]  \n",
       "\n",
       "[700 rows x 33 columns]"
      ]
     },
     "execution_count": 69,
     "metadata": {},
     "output_type": "execute_result"
    }
   ],
   "source": [
    "pair_df = pd.read_csv(pairPath)\n",
    "pair_df"
   ]
  },
  {
   "cell_type": "code",
   "execution_count": 70,
   "id": "6077ea5f-8d5a-4a8e-818d-33ac83f25c0c",
   "metadata": {
    "tags": []
   },
   "outputs": [
    {
     "data": {
      "text/plain": [
       "Index(['image_path_left', 'image_path_right', 'left_bbox', 'right_bbox',\n",
       "       'left_label', 'right_label', 'pair_label', 'original_image_path',\n",
       "       'glasses', 'original_label', 'split_type', 'original_bbox', 'source',\n",
       "       'person_name', 'old_source_name', 'folder_source', 'collection_class',\n",
       "       'collection_class_run', 'eye_score', 'collection_label', 'model_label',\n",
       "       'label_description', 'specific_source', 'new_label', 'labeller',\n",
       "       'left_v2.6.1_epoch908_softmax_score',\n",
       "       'right_v2.6.1_epoch908_softmax_score',\n",
       "       'left_v3.2.5_epoch90_softmax_score',\n",
       "       'right_v3.2.5_epoch90_softmax_score',\n",
       "       'left_v3.3.5_epoch816_softmax_score',\n",
       "       'right_v3.3.5_epoch816_softmax_score',\n",
       "       'left_v3.3.4.1_epoch987_softmax_score',\n",
       "       'right_v3.3.4.1_epoch987_softmax_score'],\n",
       "      dtype='object')"
      ]
     },
     "execution_count": 70,
     "metadata": {},
     "output_type": "execute_result"
    }
   ],
   "source": [
    "pair_df.columns"
   ]
  },
  {
   "cell_type": "code",
   "execution_count": 72,
   "id": "89ba787f-0a6f-407e-b0a8-41cef19e8a49",
   "metadata": {
    "tags": []
   },
   "outputs": [],
   "source": [
    "from sklearn.metrics import confusion_matrix\n",
    "\n",
    "mapping = {\n",
    "    'open':0,\n",
    "    'close':1,\n",
    "    'block':2,\n",
    "    'no_pred':3\n",
    "}\n",
    "\n",
    "reverse_mapping = {v:k for k,v in mapping.items()}"
   ]
  },
  {
   "cell_type": "code",
   "execution_count": 73,
   "id": "622d6aef-5ca5-42ba-84b2-8739528a341d",
   "metadata": {
    "tags": []
   },
   "outputs": [],
   "source": [
    "def get_pair_eye_prediction(left_score,right_score,open_score,close_thre,block_thre):\n",
    "    if left_score[2] > block_thre or right_score[2] > block_thre:\n",
    "        return 'block'\n",
    "    if left_score[1] > close_thre and right_score[1] > close_thre:\n",
    "        return 'close'\n",
    "    if left_score[0] > open_thre and right_score[0] > open_thre:\n",
    "        return 'open'\n",
    "    else:\n",
    "        return 'no_pred'"
   ]
  },
  {
   "cell_type": "code",
   "execution_count": 74,
   "id": "d866a902-6c5d-445a-b188-1aa6357ebdba",
   "metadata": {
    "tags": []
   },
   "outputs": [
    {
     "data": {
      "text/plain": [
       "Index(['new_label', 'labeller', 'left_v2.6.1_epoch908_softmax_score',\n",
       "       'right_v2.6.1_epoch908_softmax_score',\n",
       "       'left_v3.2.5_epoch90_softmax_score',\n",
       "       'right_v3.2.5_epoch90_softmax_score',\n",
       "       'left_v3.3.5_epoch816_softmax_score',\n",
       "       'right_v3.3.5_epoch816_softmax_score',\n",
       "       'left_v3.3.4.1_epoch987_softmax_score',\n",
       "       'right_v3.3.4.1_epoch987_softmax_score'],\n",
       "      dtype='object')"
      ]
     },
     "execution_count": 74,
     "metadata": {},
     "output_type": "execute_result"
    }
   ],
   "source": [
    "pair_df.columns[-10:]"
   ]
  },
  {
   "cell_type": "code",
   "execution_count": 84,
   "id": "727b6ccc-1ffb-4860-9487-0a956195e969",
   "metadata": {
    "tags": []
   },
   "outputs": [],
   "source": [
    "open_thre,close_thre,block_thre = 0.5,0.5,0.6\n",
    "\n",
    "left_column = 'left_v2.6.1_epoch908_softmax_score'\n",
    "right_column = 'right_v2.6.1_epoch908_softmax_score'"
   ]
  },
  {
   "cell_type": "code",
   "execution_count": 85,
   "id": "45ddc18d-88c3-46e3-bc0d-81cb980276ca",
   "metadata": {
    "tags": []
   },
   "outputs": [
    {
     "name": "stderr",
     "output_type": "stream",
     "text": [
      "700it [00:00, 559134.03it/s]"
     ]
    },
    {
     "name": "stdout",
     "output_type": "stream",
     "text": [
      "NEW DATASET\n",
      "test acc-open: 95.93\n",
      "test acc-close: 64.16\n",
      "test acc-block: 58.03\n",
      "[[165   0   5   2]\n",
      " [  0 111  53   9]\n",
      " [121   8 206  20]\n",
      " [  0   0   0   0]]\n"
     ]
    },
    {
     "name": "stderr",
     "output_type": "stream",
     "text": [
      "\n"
     ]
    }
   ],
   "source": [
    "# get prediction on separate old vs new dataset\n",
    "\n",
    "mapping = {\n",
    "    'open':0,\n",
    "    'close':1,\n",
    "    'block':2,\n",
    "    'no_pred':3\n",
    "}\n",
    "\n",
    "dataset='old'\n",
    "\n",
    "left_scores = [eval(x) for x in pair_df[left_column].tolist()]\n",
    "right_scores = [eval(x) for x in pair_df[right_column].tolist()]\n",
    "# left_scores = [x for x in current[left_column].tolist()]\n",
    "# right_scores = [x for x in current[right_column].tolist()]\n",
    "pair_labels = [x for x in pair_df['pair_label'].tolist()]\n",
    "\n",
    "pair_predictions=[]\n",
    "for (left_score,right_score) in tqdm(zip(left_scores,right_scores)):\n",
    "    pair_predictions.append(get_pair_eye_prediction(left_score,right_score,open_thre,close_thre,block_thre))\n",
    "\n",
    "pair_labels = [mapping[x] for x in pair_labels]\n",
    "pair_predictions = [mapping[x] for x in pair_predictions]\n",
    "\n",
    "cm = confusion_matrix(pair_labels,pair_predictions)\n",
    "\n",
    "print(\"NEW DATASET\")\n",
    "print(f'test acc-open: {round(cm[0,0]/sum(cm[0]) *100 , 2)}')\n",
    "print(f'test acc-close: {round(cm[1,1]/sum(cm[1]) *100 , 2)}')\n",
    "print(f'test acc-block: {round(cm[2,2]/sum(cm[2]) *100 , 2)}')\n",
    "print(cm)"
   ]
  },
  {
   "cell_type": "code",
   "execution_count": null,
   "id": "da10fdf1-8b6d-45cb-a155-526531125361",
   "metadata": {},
   "outputs": [],
   "source": []
  },
  {
   "cell_type": "code",
   "execution_count": null,
   "id": "ba260462-794b-49b5-99f8-8f893ba9e0e8",
   "metadata": {},
   "outputs": [],
   "source": []
  },
  {
   "cell_type": "code",
   "execution_count": null,
   "id": "6372ad66-4e8a-4ae0-973e-e3cb99aaa8db",
   "metadata": {},
   "outputs": [],
   "source": []
  },
  {
   "cell_type": "code",
   "execution_count": 93,
   "id": "bf1f393b-ed2b-48d3-9d64-2e209d04ee68",
   "metadata": {
    "tags": []
   },
   "outputs": [
    {
     "name": "stdout",
     "output_type": "stream",
     "text": [
      "predicted open close block no_pred\n",
      "121 8 206 20\n",
      "block-acc: 58.03\n"
     ]
    }
   ],
   "source": [
    "open_thre,close_thre,block_thre = 0.5,0.5,0.6\n",
    "output_folder = 'v2.6.1'\n",
    "epoch = 908\n",
    "\n",
    "left_column = f'left_{output_folder}_epoch{epoch}_softmax_score'\n",
    "right_column = f'right_{output_folder}_epoch{epoch}_softmax_score'\n",
    "\n",
    "left_scores = [eval(x) for x in pair_df[left_column].tolist()]\n",
    "right_scores = [eval(x) for x in pair_df[right_column].tolist()]\n",
    "pair_labels = [x for x in pair_df['pair_label'].tolist()]\n",
    "\n",
    "pair_predictions=[]\n",
    "for (left_score,right_score) in zip(left_scores,right_scores):\n",
    "    pair_predictions.append(get_pair_eye_prediction(left_score,right_score,open_thre,close_thre,block_thre))\n",
    "\n",
    "pair_labels = [mapping[x] for x in pair_labels]\n",
    "pair_predictions = [mapping[x] for x in pair_predictions]\n",
    "\n",
    "pred_open,pred_close,pred_block,pred_no_pred = pair_predictions.count(0), pair_predictions.count(1), pair_predictions.count(2), pair_predictions.count(3)\n",
    "print('predicted open close block no_pred')\n",
    "print(pred_open,pred_close,pred_block,pred_no_pred)\n",
    "print(f'block-acc: {round(pred_block/len(pair_labels)*100,2)}')"
   ]
  },
  {
   "cell_type": "code",
   "execution_count": 144,
   "id": "a779b604-2f18-4c10-b6aa-f382608d7bbb",
   "metadata": {},
   "outputs": [
    {
     "name": "stdout",
     "output_type": "stream",
     "text": [
      "predicted open close block no_pred\n",
      "10 0 344 1\n",
      "block-acc: 96.9\n"
     ]
    }
   ],
   "source": [
    "open_thre,close_thre,block_thre = 0.5,0.4,0.4\n",
    "output_folder = 'v3.3.4.1'\n",
    "epoch = 987\n",
    "\n",
    "left_column = f'left_{output_folder}_epoch{epoch}_softmax_score'\n",
    "right_column = f'right_{output_folder}_epoch{epoch}_softmax_score'\n",
    "\n",
    "left_scores = [eval(x) for x in pair_df[left_column].tolist()]\n",
    "right_scores = [eval(x) for x in pair_df[right_column].tolist()]\n",
    "pair_labels = [x for x in pair_df['pair_label'].tolist()]\n",
    "\n",
    "pair_predictions=[]\n",
    "for (left_score,right_score) in zip(left_scores,right_scores):\n",
    "    pair_predictions.append(get_pair_eye_prediction(left_score,right_score,open_thre,close_thre,block_thre))\n",
    "\n",
    "pair_labels = [mapping[x] for x in pair_labels]\n",
    "pair_predictions = [mapping[x] for x in pair_predictions]\n",
    "\n",
    "pred_open,pred_close,pred_block,pred_no_pred = pair_predictions.count(0), pair_predictions.count(1), pair_predictions.count(2), pair_predictions.count(3)\n",
    "print('predicted open close block no_pred')\n",
    "print(pred_open,pred_close,pred_block,pred_no_pred)\n",
    "print(f'block-acc: {round(pred_block/len(pair_labels)*100,2)}')"
   ]
  },
  {
   "cell_type": "markdown",
   "id": "8055c5db-f3d5-4806-874a-3ae4bbe64728",
   "metadata": {
    "jp-MarkdownHeadingCollapsed": true,
    "tags": []
   },
   "source": [
    "# case study"
   ]
  },
  {
   "cell_type": "code",
   "execution_count": 139,
   "id": "baa7946a-5e70-4666-b8c6-0e31ddbf142a",
   "metadata": {
    "tags": []
   },
   "outputs": [],
   "source": [
    "def load_image(image_path, bbox, resize_dim):\n",
    "    expand_ratio = 0\n",
    "    image = cv2.cvtColor(cv2.imread(image_path), cv2.COLOR_BGR2RGB)\n",
    "    l, t, r, b = bbox\n",
    "    w, h = r - l, b - t\n",
    "    l, r = max(0, l - int(expand_ratio * w / 2)), min(image.shape[1] - 1, r + int(expand_ratio * w / 2))\n",
    "    t, b = max(0, t - int(expand_ratio * h / 2)), min(image.shape[0] - 1, b + int(expand_ratio * h / 2))\n",
    "    image = cv2.resize(image[t:b, l:r], (resize_dim, resize_dim))\n",
    "    return image\n",
    "\n",
    "def apply_input_transforms(image): #apply /255 and totensor for val and test, can apply for train after augmentations\n",
    "    transforms=Compose([\n",
    "        ToTensor()\n",
    "    ])\n",
    "    image=transforms(image)\n",
    "    return image \n",
    "\n",
    "def plot_pair_images_grid(df, num_images, n_cols, columns=[],resize_dim=0):\n",
    "    indexes = df.index[:num_images]\n",
    "    n_rows = int(np.ceil(len(indexes) / n_cols))\n",
    "    \n",
    "    for i, ind in enumerate(tqdm(indexes)):\n",
    "        row = df.loc[ind]\n",
    "        image_path_left = row['image_path_left']\n",
    "        image_path_right = row['image_path_right']\n",
    "        left_bbox = eval(row['left_bbox'])\n",
    "        right_bbox = eval(row['right_bbox'])\n",
    "        \n",
    "        left_image = load_image(image_path=image_path_left, bbox=left_bbox, resize_dim=resize_dim)\n",
    "        right_image = load_image(image_path=image_path_right, bbox=right_bbox, resize_dim=resize_dim)\n",
    "        \n",
    "        if columns:\n",
    "            left_score_title,right_score_title='',''\n",
    "            for column in columns:\n",
    "                left_score_title+='\\n'\n",
    "                right_score_title+='\\n'\n",
    "                output_folder,epoch = column\n",
    "                left_model_softmax_col_name = f'left_{output_folder}_epoch{epoch}_softmax_score'\n",
    "                right_model_softmax_col_name = f'right_{output_folder}_epoch{epoch}_softmax_score'\n",
    "                left_score=row[left_model_softmax_col_name]\n",
    "                right_score=row[right_model_softmax_col_name]\n",
    "                left_score = eval(left_score)\n",
    "                right_score = eval(right_score)\n",
    "                left_score=[round(x,2) for x in left_score]\n",
    "                right_score=[round(x,2) for x in right_score]\n",
    "                left_score_title+=f\"{output_folder}: {str(left_score)}\"\n",
    "                right_score_title+=f\"{output_folder}: {str(right_score)}\"\n",
    "        \n",
    "        plt.subplot(n_rows, 2 * n_cols, 2 * i + 1)\n",
    "        plt.imshow(left_image)\n",
    "        plt.axis('off')\n",
    "        plt.title(f'{ind} - left{left_score_title}',fontsize=7)\n",
    "\n",
    "        plt.subplot(n_rows, 2 * n_cols, 2 * i + 2)\n",
    "        plt.imshow(right_image)\n",
    "        plt.axis('off')\n",
    "        plt.title(f'{ind} - right{right_score_title}',fontsize=7)\n",
    "\n",
    "    plt.subplots_adjust(hspace=0.1, wspace=0.05)\n",
    "    plt.gcf().set_size_inches(3.5 * n_cols, 2.4 * n_rows)\n",
    "    plt.show()"
   ]
  },
  {
   "cell_type": "code",
   "execution_count": 140,
   "id": "aad7f4c2-5165-4e75-88f0-a98b4a05163e",
   "metadata": {
    "tags": []
   },
   "outputs": [],
   "source": [
    "current = pair_df.iloc[:20]"
   ]
  },
  {
   "cell_type": "code",
   "execution_count": 141,
   "id": "66d02b35-253e-4a01-869c-c49f030689a1",
   "metadata": {
    "tags": []
   },
   "outputs": [
    {
     "data": {
      "text/plain": [
       "Index(['image_path_left', 'image_path_right', 'left_bbox', 'right_bbox',\n",
       "       'left_label', 'right_label', 'pair_label', 'original_image_path',\n",
       "       'glasses', 'original_label', 'split_type', 'original_bbox', 'source',\n",
       "       'person_name', 'old_source_name', 'folder_source', 'collection_class',\n",
       "       'collection_class_run', 'eye_score', 'collection_label', 'model_label',\n",
       "       'label_description', 'specific_source', 'new_label', 'labeller',\n",
       "       'left_v2.6.1_epoch908_softmax_score',\n",
       "       'right_v2.6.1_epoch908_softmax_score',\n",
       "       'left_v3.2.5_epoch90_softmax_score',\n",
       "       'right_v3.2.5_epoch90_softmax_score',\n",
       "       'left_v3.3.5_epoch816_softmax_score',\n",
       "       'right_v3.3.5_epoch816_softmax_score',\n",
       "       'left_v3.3.4.1_epoch987_softmax_score',\n",
       "       'right_v3.3.4.1_epoch987_softmax_score'],\n",
       "      dtype='object')"
      ]
     },
     "execution_count": 141,
     "metadata": {},
     "output_type": "execute_result"
    }
   ],
   "source": [
    "current.columns"
   ]
  },
  {
   "cell_type": "code",
   "execution_count": 1,
   "id": "a5d29c06-4b0d-47be-9129-d8335eff6089",
   "metadata": {
    "tags": []
   },
   "outputs": [
    {
     "ename": "NameError",
     "evalue": "name 'plot_pair_images_grid' is not defined",
     "output_type": "error",
     "traceback": [
      "\u001b[0;31m---------------------------------------------------------------------------\u001b[0m",
      "\u001b[0;31mNameError\u001b[0m                                 Traceback (most recent call last)",
      "\u001b[0;32m/var/folders/3k/vv9sv0rd0453t8myv393d4mr0000gn/T/ipykernel_29083/2744419876.py\u001b[0m in \u001b[0;36m<module>\u001b[0;34m\u001b[0m\n\u001b[0;32m----> 1\u001b[0;31m \u001b[0mplot_pair_images_grid\u001b[0m\u001b[0;34m(\u001b[0m\u001b[0mcurrent\u001b[0m\u001b[0;34m,\u001b[0m \u001b[0mnum_images\u001b[0m\u001b[0;34m=\u001b[0m\u001b[0;36m20\u001b[0m\u001b[0;34m,\u001b[0m \u001b[0mn_cols\u001b[0m\u001b[0;34m=\u001b[0m\u001b[0;36m6\u001b[0m\u001b[0;34m,\u001b[0m \u001b[0mcolumns\u001b[0m\u001b[0;34m=\u001b[0m\u001b[0;34m[\u001b[0m\u001b[0;34m[\u001b[0m\u001b[0;34m'v2.6.1'\u001b[0m\u001b[0;34m,\u001b[0m\u001b[0;34m'908'\u001b[0m\u001b[0;34m]\u001b[0m\u001b[0;34m,\u001b[0m\u001b[0;34m[\u001b[0m\u001b[0;34m'v3.3.4.1'\u001b[0m\u001b[0;34m,\u001b[0m\u001b[0;34m'987'\u001b[0m\u001b[0;34m]\u001b[0m\u001b[0;34m]\u001b[0m\u001b[0;34m,\u001b[0m\u001b[0mresize_dim\u001b[0m\u001b[0;34m=\u001b[0m\u001b[0;36m80\u001b[0m\u001b[0;34m)\u001b[0m\u001b[0;34m\u001b[0m\u001b[0;34m\u001b[0m\u001b[0m\n\u001b[0m",
      "\u001b[0;31mNameError\u001b[0m: name 'plot_pair_images_grid' is not defined"
     ]
    }
   ],
   "source": [
    "plot_pair_images_grid(current, num_images=20, n_cols=6, columns=[['v2.6.1','908'],['v3.3.4.1','987']],resize_dim=80)"
   ]
  }
 ],
 "metadata": {
  "kernelspec": {
   "display_name": "dsa5204",
   "language": "python",
   "name": "dsa5204"
  },
  "language_info": {
   "codemirror_mode": {
    "name": "ipython",
    "version": 3
   },
   "file_extension": ".py",
   "mimetype": "text/x-python",
   "name": "python",
   "nbconvert_exporter": "python",
   "pygments_lexer": "ipython3",
   "version": "3.7.9"
  }
 },
 "nbformat": 4,
 "nbformat_minor": 5
}
